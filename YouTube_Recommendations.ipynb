{
  "nbformat": 4,
  "nbformat_minor": 0,
  "metadata": {
    "colab": {
      "name": "YouTube Recommendations.ipynb",
      "provenance": [],
      "collapsed_sections": [],
      "authorship_tag": "ABX9TyNzEeNBF+Sp0UlXb0hXxhT/",
      "include_colab_link": true
    },
    "kernelspec": {
      "name": "python3",
      "display_name": "Python 3"
    },
    "language_info": {
      "name": "python"
    }
  },
  "cells": [
    {
      "cell_type": "markdown",
      "metadata": {
        "id": "view-in-github",
        "colab_type": "text"
      },
      "source": [
        "<a href=\"https://colab.research.google.com/github/Laya303/Customize-YouTube-Recommendations/blob/main/YouTube_Recommendations.ipynb\" target=\"_parent\"><img src=\"https://colab.research.google.com/assets/colab-badge.svg\" alt=\"Open In Colab\"/></a>"
      ]
    },
    {
      "cell_type": "code",
      "metadata": {
        "id": "S7dR5LZikFjI"
      },
      "source": [
        "pip install google-api-python-client"
      ],
      "execution_count": null,
      "outputs": []
    },
    {
      "cell_type": "code",
      "metadata": {
        "id": "8cluwEjrs3Wk"
      },
      "source": [
        "import pandas as pd\n",
        "from datetime import datetime, timedelta\n",
        "from tabulate import tabulate\n",
        "from IPython.display import display, HTML\n",
        "from apiclient.discovery import build\n",
        "\n",
        "api_key = 'your_api_key_here'"
      ],
      "execution_count": 2,
      "outputs": []
    },
    {
      "cell_type": "code",
      "metadata": {
        "id": "0GUPRiQctNsW"
      },
      "source": [
        "def get_start_date_string(search_period_days):\n",
        "    #Returns string for start-date of search period\n",
        "    search_start_date = datetime.today() - timedelta(search_period_days)\n",
        "    date_string = datetime(year=search_start_date.year,month=search_start_date.month,\n",
        "                           day=search_start_date.day).strftime('%Y-%m-%dT%H:%M:%SZ')\n",
        "    return date_string"
      ],
      "execution_count": 3,
      "outputs": []
    },
    {
      "cell_type": "code",
      "metadata": {
        "id": "5AFBdYzMtdco"
      },
      "source": [
        "#Parsing key information about vidoes\n",
        "\n",
        "def find_title(item):\n",
        "    title = item['snippet']['title']\n",
        "    return title\n",
        "\n",
        "def find_video_url(item):\n",
        "    video_id = item['id']['videoId']\n",
        "    video_url = \"https://www.youtube.com/watch?v=\" + video_id\n",
        "    return video_url\n",
        "\n",
        "def find_viewcount(item, youtube):\n",
        "    video_id = item['id']['videoId']\n",
        "    video_statistics = youtube.videos().list(id=video_id,\n",
        "                                        part='statistics').execute()\n",
        "    viewcount = int(video_statistics['items'][0]['statistics']['viewCount'])\n",
        "    return viewcount\n",
        "\n",
        "def find_channel_id(item):\n",
        "    channel_id = item['snippet']['channelId']\n",
        "    return channel_id\n",
        "\n",
        "def find_channel_url(item):\n",
        "    channel_id = item['snippet']['channelId']\n",
        "    channel_url = \"https://www.youtube.com/channel/\" + channel_id\n",
        "    return channel_url\n",
        "\n",
        "def find_channel_title(channel_id, youtube):\n",
        "    channel_search = youtube.channels().list(id=channel_id,\n",
        "                                            part='brandingSettings').execute()\n",
        "    channel_name = channel_search['items'][0]\\\n",
        "                                    ['brandingSettings']['channel']['title']\n",
        "    return channel_name\n",
        "\n",
        "def find_num_subscribers(channel_id, youtube):\n",
        "    subs_search = youtube.channels().list(id=channel_id,\n",
        "                                            part='statistics').execute()\n",
        "    if subs_search['items'][0]['statistics']['hiddenSubscriberCount']:\n",
        "        num_subscribers = 1000000\n",
        "    else:\n",
        "        num_subscribers = int(subs_search['items'][0]\\\n",
        "                                    ['statistics']['subscriberCount'])\n",
        "    return num_subscribers\n",
        "\n",
        "def view_to_sub_ratio(viewcount, num_subscribers):\n",
        "    if num_subscribers == 0:\n",
        "        return 0\n",
        "    else:\n",
        "        ratio = viewcount / num_subscribers\n",
        "        return ratio\n",
        "\n",
        "def age(item):\n",
        "    when_published = item['snippet']['publishedAt']\n",
        "    when_published_datetime_object = datetime.strptime(when_published,\n",
        "                                                        '%Y-%m-%dT%H:%M:%SZ')\n",
        "    today_date = datetime.today()\n",
        "    days_since_published = int((today_date - when_published_datetime_object).days)\n",
        "    if days_since_published == 0:\n",
        "        days_since_published = 1\n",
        "    return days_since_published\n",
        "\n",
        "def custom_score(viewcount, ratio, days_since_published):\n",
        "    ratio = min(ratio, 5)\n",
        "    score = (viewcount * ratio) / days_since_published\n",
        "    return round(score)\n"
      ],
      "execution_count": 4,
      "outputs": []
    },
    {
      "cell_type": "code",
      "metadata": {
        "id": "lrSs3P1DupKt"
      },
      "source": [
        "def find_videos(search_terms, api_key, views_threshold, uploaded_since):\n",
        "\n",
        "    # Initialise results dataframe\n",
        "    dataframe = pd.DataFrame(columns=('Title', 'Link', 'Score',\n",
        "                            'Views', 'Channel','Subscribers',\n",
        "                            'View-Subscriber Ratio','Channel Link'))\n",
        "\n",
        "    # Run search and populate dataframe\n",
        "    search_results, youtube_api = search_api(search_terms, api_key,\n",
        "                                                        uploaded_since)\n",
        "\n",
        "    results_df = populate_dataframe(search_results, youtube_api, dataframe,\n",
        "                                                        views_threshold)\n",
        "\n",
        "    return results_df\n",
        "\n",
        "def search_api(search_terms, api_key, uploaded_since):\n",
        "    \n",
        "    # Initialise API call\n",
        "    youtube_api = build('youtube', 'v3', developerKey = api_key)\n",
        "\n",
        "    # Run search\n",
        "    results = youtube_api.search().list(q=search_terms, part='snippet',\n",
        "                                type='video', order='viewCount', maxResults=50,\n",
        "                                publishedAfter=uploaded_since).execute()\n",
        "\n",
        "    return results, youtube_api\n",
        "\n",
        "\n",
        "def populate_dataframe(results, youtube_api, df, views_threshold):\n",
        "\n",
        "    # Loop over search results and add key information to dataframe\n",
        "    i = 1\n",
        "    for item in results['items']:\n",
        "        viewcount = find_viewcount(item, youtube_api)\n",
        "        if viewcount > views_threshold:\n",
        "            title = find_title(item)\n",
        "            video_url = find_video_url(item)\n",
        "            channel_url = find_channel_url(item)\n",
        "            channel_id = find_channel_id(item)\n",
        "            channel_name = find_channel_title(channel_id, youtube_api)\n",
        "            num_subs = find_num_subscribers(channel_id, youtube_api)\n",
        "            ratio = view_to_sub_ratio(viewcount, num_subs)\n",
        "            days_since_published = age(item)\n",
        "            score = custom_score(viewcount, ratio, days_since_published)\n",
        "            df.loc[i] = [title, video_url, score, viewcount, channel_name,\\\n",
        "                                    num_subs, format(ratio, '.1f'), channel_url]\n",
        "        i += 1\n",
        "    return df\n"
      ],
      "execution_count": 5,
      "outputs": []
    },
    {
      "cell_type": "code",
      "metadata": {
        "id": "09DrmEs9s_rN"
      },
      "source": [
        "def search_each_term(search_terms, api_key, uploaded_since=get_start_date_string(7),\n",
        "                        views_threshold=5000, num_to_print=5):\n",
        "    \n",
        "    #Uses search term to execute API calls\n",
        "    if type(search_terms) == str:\n",
        "        search_terms = [search_terms]\n",
        "\n",
        "    \n",
        "    for index, search_term in enumerate(search_terms):\n",
        "        df = find_videos(search_terms[index], api_key, views_threshold=views_threshold,\n",
        "                         uploaded_since = uploaded_since)\n",
        "        df = df.sort_values(['Score'], ascending=[0])\n",
        "    \n",
        "    print(\"\\n\\nHi Sreelaya\\nHere are the videos you should watch this week\\n\\n\")\n",
        "    print_top_videos(df, num_to_print)                                          #Prints top 5 vidoes\n",
        "    \n",
        "    print(\"\\n\\nThese are all the results fetched...\\n\")\n",
        "    pd.set_option('max_colwidth', 400)\n",
        "\n",
        "    #Modifying Title and Channel columns as hyperlinks\n",
        "    df['Title'] = '<a href=' + df['Link'] + '><div>' + df['Title'] + '</div></a>'\n",
        "    df['Channel'] = '<a href=' + df['Channel Link'] + '><div>' + df['Channel'] + '</div></a>' \n",
        "    final_df = df.drop(['Link', 'Channel Link'], axis=1)\n",
        "\n",
        "\n",
        "    dfStyler = final_df.style.set_properties(subset=['Title'],**{'text-align': 'left'})\n",
        "    dfStyler = final_df.style.set_properties(subset=['Score', 'Views', 'Channel','Subscribers',\n",
        "                            'View-Subscriber Ratio'],**{'text-align': 'center'})\n",
        "    dfStyler.set_table_styles([dict(selector='th', props=[('text-align', 'center')])]).hide_index()\n",
        "    \n",
        "    display(HTML(dfStyler.render()))\n",
        "\n",
        "def print_top_videos(df, num_to_print):\n",
        "    if len(df) < num_to_print:\n",
        "        num_to_print = len(df)\n",
        "    if num_to_print == 0:\n",
        "        print(\"No video results found\")\n",
        "    else:\n",
        "        for i in range(num_to_print):\n",
        "            video = df.iloc[i]\n",
        "            title = video['Title']\n",
        "            link = video['Link']\n",
        "            print(\"#{}\\nTitle: '{}' \\nURL: {} \\n\"\\\n",
        "                                        .format(i+1, title, link))\n",
        "\n"
      ],
      "execution_count": 6,
      "outputs": []
    },
    {
      "cell_type": "code",
      "metadata": {
        "colab": {
          "base_uri": "https://localhost:8080/",
          "height": 697
        },
        "id": "Ar5U_OxQuXBd",
        "outputId": "5feeea7e-8771-48d6-f1c2-c70cae72177f"
      },
      "source": [
        "search_each_term(\"Machine Learning\", api_key, num_to_print=5)                   #search_each_term(\"Data Science\", api_key, '2021-01-11T00:00:00Z' )\n",
        " "
      ],
      "execution_count": 7,
      "outputs": [
        {
          "output_type": "stream",
          "text": [
            "\n",
            "\n",
            "Hi Sreelaya\n",
            "Here are the videos you should watch this week\n",
            "\n",
            "\n",
            "#1\n",
            "Title: 'Linear Regression with Scikit Learn | Lesson 1 of 6 | Machine Learning with Python: Zero to GBMs' \n",
            "URL: https://www.youtube.com/watch?v=CVszSgTWODE \n",
            "\n",
            "#2\n",
            "Title: 'XCiT: Cross-Covariance Image Transformers (Facebook AI Machine Learning Research Paper Explained)' \n",
            "URL: https://www.youtube.com/watch?v=g08NkNWmZTA \n",
            "\n",
            "#3\n",
            "Title: '#55 Self-Supervised Vision Models (Dr. Ishan Misra - FAIR).' \n",
            "URL: https://www.youtube.com/watch?v=EXJmodhu4_4 \n",
            "\n",
            "#4\n",
            "Title: 'Künstliche Intelligenz: Wie Machine Learning unsere Gesellschaft verändert' \n",
            "URL: https://www.youtube.com/watch?v=xhOeuqL2Pro \n",
            "\n",
            "#5\n",
            "Title: 'Sign Language Detection using ACTION RECOGNITION with Python | LSTM Deep Learning Model' \n",
            "URL: https://www.youtube.com/watch?v=doDUihpj6ro \n",
            "\n",
            "\n",
            "\n",
            "These are all the results fetched...\n",
            "\n"
          ],
          "name": "stdout"
        },
        {
          "output_type": "display_data",
          "data": {
            "text/html": [
              "<style  type=\"text/css\" >\n",
              "    #T_15a0908e_d5c2_11eb_ba54_0242ac1c0002 th {\n",
              "          text-align: center;\n",
              "    }#T_15a0908e_d5c2_11eb_ba54_0242ac1c0002row0_col1,#T_15a0908e_d5c2_11eb_ba54_0242ac1c0002row0_col2,#T_15a0908e_d5c2_11eb_ba54_0242ac1c0002row0_col3,#T_15a0908e_d5c2_11eb_ba54_0242ac1c0002row0_col4,#T_15a0908e_d5c2_11eb_ba54_0242ac1c0002row0_col5,#T_15a0908e_d5c2_11eb_ba54_0242ac1c0002row1_col1,#T_15a0908e_d5c2_11eb_ba54_0242ac1c0002row1_col2,#T_15a0908e_d5c2_11eb_ba54_0242ac1c0002row1_col3,#T_15a0908e_d5c2_11eb_ba54_0242ac1c0002row1_col4,#T_15a0908e_d5c2_11eb_ba54_0242ac1c0002row1_col5,#T_15a0908e_d5c2_11eb_ba54_0242ac1c0002row2_col1,#T_15a0908e_d5c2_11eb_ba54_0242ac1c0002row2_col2,#T_15a0908e_d5c2_11eb_ba54_0242ac1c0002row2_col3,#T_15a0908e_d5c2_11eb_ba54_0242ac1c0002row2_col4,#T_15a0908e_d5c2_11eb_ba54_0242ac1c0002row2_col5,#T_15a0908e_d5c2_11eb_ba54_0242ac1c0002row3_col1,#T_15a0908e_d5c2_11eb_ba54_0242ac1c0002row3_col2,#T_15a0908e_d5c2_11eb_ba54_0242ac1c0002row3_col3,#T_15a0908e_d5c2_11eb_ba54_0242ac1c0002row3_col4,#T_15a0908e_d5c2_11eb_ba54_0242ac1c0002row3_col5,#T_15a0908e_d5c2_11eb_ba54_0242ac1c0002row4_col1,#T_15a0908e_d5c2_11eb_ba54_0242ac1c0002row4_col2,#T_15a0908e_d5c2_11eb_ba54_0242ac1c0002row4_col3,#T_15a0908e_d5c2_11eb_ba54_0242ac1c0002row4_col4,#T_15a0908e_d5c2_11eb_ba54_0242ac1c0002row4_col5,#T_15a0908e_d5c2_11eb_ba54_0242ac1c0002row5_col1,#T_15a0908e_d5c2_11eb_ba54_0242ac1c0002row5_col2,#T_15a0908e_d5c2_11eb_ba54_0242ac1c0002row5_col3,#T_15a0908e_d5c2_11eb_ba54_0242ac1c0002row5_col4,#T_15a0908e_d5c2_11eb_ba54_0242ac1c0002row5_col5,#T_15a0908e_d5c2_11eb_ba54_0242ac1c0002row6_col1,#T_15a0908e_d5c2_11eb_ba54_0242ac1c0002row6_col2,#T_15a0908e_d5c2_11eb_ba54_0242ac1c0002row6_col3,#T_15a0908e_d5c2_11eb_ba54_0242ac1c0002row6_col4,#T_15a0908e_d5c2_11eb_ba54_0242ac1c0002row6_col5{\n",
              "            text-align:  center;\n",
              "        }</style><table id=\"T_15a0908e_d5c2_11eb_ba54_0242ac1c0002\" ><thead>    <tr>        <th class=\"col_heading level0 col0\" >Title</th>        <th class=\"col_heading level0 col1\" >Score</th>        <th class=\"col_heading level0 col2\" >Views</th>        <th class=\"col_heading level0 col3\" >Channel</th>        <th class=\"col_heading level0 col4\" >Subscribers</th>        <th class=\"col_heading level0 col5\" >View-Subscriber Ratio</th>    </tr></thead><tbody>\n",
              "                <tr>\n",
              "                                <td id=\"T_15a0908e_d5c2_11eb_ba54_0242ac1c0002row0_col0\" class=\"data row0 col0\" ><a href=https://www.youtube.com/watch?v=CVszSgTWODE><div>Linear Regression with Scikit Learn | Lesson 1 of 6 | Machine Learning with Python: Zero to GBMs</div></a></td>\n",
              "                        <td id=\"T_15a0908e_d5c2_11eb_ba54_0242ac1c0002row0_col1\" class=\"data row0 col1\" >1595</td>\n",
              "                        <td id=\"T_15a0908e_d5c2_11eb_ba54_0242ac1c0002row0_col2\" class=\"data row0 col2\" >10752</td>\n",
              "                        <td id=\"T_15a0908e_d5c2_11eb_ba54_0242ac1c0002row0_col3\" class=\"data row0 col3\" ><a href=https://www.youtube.com/channel/UCmKaoNn0OvxVAe7f_8sXYNQ><div>Jovian</div></a></td>\n",
              "                        <td id=\"T_15a0908e_d5c2_11eb_ba54_0242ac1c0002row0_col4\" class=\"data row0 col4\" >14500</td>\n",
              "                        <td id=\"T_15a0908e_d5c2_11eb_ba54_0242ac1c0002row0_col5\" class=\"data row0 col5\" >0.7</td>\n",
              "            </tr>\n",
              "            <tr>\n",
              "                                <td id=\"T_15a0908e_d5c2_11eb_ba54_0242ac1c0002row1_col0\" class=\"data row1 col0\" ><a href=https://www.youtube.com/watch?v=g08NkNWmZTA><div>XCiT: Cross-Covariance Image Transformers (Facebook AI Machine Learning Research Paper Explained)</div></a></td>\n",
              "                        <td id=\"T_15a0908e_d5c2_11eb_ba54_0242ac1c0002row1_col1\" class=\"data row1 col1\" >429</td>\n",
              "                        <td id=\"T_15a0908e_d5c2_11eb_ba54_0242ac1c0002row1_col2\" class=\"data row1 col2\" >8865</td>\n",
              "                        <td id=\"T_15a0908e_d5c2_11eb_ba54_0242ac1c0002row1_col3\" class=\"data row1 col3\" ><a href=https://www.youtube.com/channel/UCZHmQk67mSJgfCCTn7xBfew><div>Yannic Kilcher</div></a></td>\n",
              "                        <td id=\"T_15a0908e_d5c2_11eb_ba54_0242ac1c0002row1_col4\" class=\"data row1 col4\" >91500</td>\n",
              "                        <td id=\"T_15a0908e_d5c2_11eb_ba54_0242ac1c0002row1_col5\" class=\"data row1 col5\" >0.1</td>\n",
              "            </tr>\n",
              "            <tr>\n",
              "                                <td id=\"T_15a0908e_d5c2_11eb_ba54_0242ac1c0002row2_col0\" class=\"data row2 col0\" ><a href=https://www.youtube.com/watch?v=EXJmodhu4_4><div>#55 Self-Supervised Vision Models (Dr. Ishan Misra - FAIR).</div></a></td>\n",
              "                        <td id=\"T_15a0908e_d5c2_11eb_ba54_0242ac1c0002row2_col1\" class=\"data row2 col1\" >400</td>\n",
              "                        <td id=\"T_15a0908e_d5c2_11eb_ba54_0242ac1c0002row2_col2\" class=\"data row2 col2\" >5153</td>\n",
              "                        <td id=\"T_15a0908e_d5c2_11eb_ba54_0242ac1c0002row2_col3\" class=\"data row2 col3\" ><a href=https://www.youtube.com/channel/UCMLtBahI5DMrt0NPvDSoIRQ><div>Machine Learning Street Talk</div></a></td>\n",
              "                        <td id=\"T_15a0908e_d5c2_11eb_ba54_0242ac1c0002row2_col4\" class=\"data row2 col4\" >16600</td>\n",
              "                        <td id=\"T_15a0908e_d5c2_11eb_ba54_0242ac1c0002row2_col5\" class=\"data row2 col5\" >0.3</td>\n",
              "            </tr>\n",
              "            <tr>\n",
              "                                <td id=\"T_15a0908e_d5c2_11eb_ba54_0242ac1c0002row3_col0\" class=\"data row3 col0\" ><a href=https://www.youtube.com/watch?v=xhOeuqL2Pro><div>Künstliche Intelligenz: Wie Machine Learning unsere Gesellschaft verändert</div></a></td>\n",
              "                        <td id=\"T_15a0908e_d5c2_11eb_ba54_0242ac1c0002row3_col1\" class=\"data row3 col1\" >304</td>\n",
              "                        <td id=\"T_15a0908e_d5c2_11eb_ba54_0242ac1c0002row3_col2\" class=\"data row3 col2\" >14721</td>\n",
              "                        <td id=\"T_15a0908e_d5c2_11eb_ba54_0242ac1c0002row3_col3\" class=\"data row3 col3\" ><a href=https://www.youtube.com/channel/UC9Iq-yi4q3lsnSEXltzpqcQ><div>Florian Homm</div></a></td>\n",
              "                        <td id=\"T_15a0908e_d5c2_11eb_ba54_0242ac1c0002row3_col4\" class=\"data row3 col4\" >238000</td>\n",
              "                        <td id=\"T_15a0908e_d5c2_11eb_ba54_0242ac1c0002row3_col5\" class=\"data row3 col5\" >0.1</td>\n",
              "            </tr>\n",
              "            <tr>\n",
              "                                <td id=\"T_15a0908e_d5c2_11eb_ba54_0242ac1c0002row4_col0\" class=\"data row4 col0\" ><a href=https://www.youtube.com/watch?v=doDUihpj6ro><div>Sign Language Detection using ACTION RECOGNITION with Python | LSTM Deep Learning Model</div></a></td>\n",
              "                        <td id=\"T_15a0908e_d5c2_11eb_ba54_0242ac1c0002row4_col1\" class=\"data row4 col1\" >208</td>\n",
              "                        <td id=\"T_15a0908e_d5c2_11eb_ba54_0242ac1c0002row4_col2\" class=\"data row4 col2\" >5380</td>\n",
              "                        <td id=\"T_15a0908e_d5c2_11eb_ba54_0242ac1c0002row4_col3\" class=\"data row4 col3\" ><a href=https://www.youtube.com/channel/UCHXa4OpASJEwrHrLeIzw7Yg><div>Nicholas Renotte</div></a></td>\n",
              "                        <td id=\"T_15a0908e_d5c2_11eb_ba54_0242ac1c0002row4_col4\" class=\"data row4 col4\" >23200</td>\n",
              "                        <td id=\"T_15a0908e_d5c2_11eb_ba54_0242ac1c0002row4_col5\" class=\"data row4 col5\" >0.2</td>\n",
              "            </tr>\n",
              "            <tr>\n",
              "                                <td id=\"T_15a0908e_d5c2_11eb_ba54_0242ac1c0002row5_col0\" class=\"data row5 col0\" ><a href=https://www.youtube.com/watch?v=skGjo9YKfEo><div>White Box Vs Black Box Models In Machine Learning- Data Science Interview Question</div></a></td>\n",
              "                        <td id=\"T_15a0908e_d5c2_11eb_ba54_0242ac1c0002row5_col1\" class=\"data row5 col1\" >47</td>\n",
              "                        <td id=\"T_15a0908e_d5c2_11eb_ba54_0242ac1c0002row5_col2\" class=\"data row5 col2\" >8469</td>\n",
              "                        <td id=\"T_15a0908e_d5c2_11eb_ba54_0242ac1c0002row5_col3\" class=\"data row5 col3\" ><a href=https://www.youtube.com/channel/UCNU_lfiiWBdtULKOw6X0Dig><div>Krish Naik</div></a></td>\n",
              "                        <td id=\"T_15a0908e_d5c2_11eb_ba54_0242ac1c0002row5_col4\" class=\"data row5 col4\" >384000</td>\n",
              "                        <td id=\"T_15a0908e_d5c2_11eb_ba54_0242ac1c0002row5_col5\" class=\"data row5 col5\" >0.0</td>\n",
              "            </tr>\n",
              "            <tr>\n",
              "                                <td id=\"T_15a0908e_d5c2_11eb_ba54_0242ac1c0002row6_col0\" class=\"data row6 col0\" ><a href=https://www.youtube.com/watch?v=lGNJIDFDj1A><div>Deep Learning with Python Tutorial | Deep Learning Training | Edureka | DL Rewind - 1</div></a></td>\n",
              "                        <td id=\"T_15a0908e_d5c2_11eb_ba54_0242ac1c0002row6_col1\" class=\"data row6 col1\" >5</td>\n",
              "                        <td id=\"T_15a0908e_d5c2_11eb_ba54_0242ac1c0002row6_col2\" class=\"data row6 col2\" >5252</td>\n",
              "                        <td id=\"T_15a0908e_d5c2_11eb_ba54_0242ac1c0002row6_col3\" class=\"data row6 col3\" ><a href=https://www.youtube.com/channel/UCkw4JCwteGrDHIsyIIKo4tQ><div>edureka!</div></a></td>\n",
              "                        <td id=\"T_15a0908e_d5c2_11eb_ba54_0242ac1c0002row6_col4\" class=\"data row6 col4\" >2710000</td>\n",
              "                        <td id=\"T_15a0908e_d5c2_11eb_ba54_0242ac1c0002row6_col5\" class=\"data row6 col5\" >0.0</td>\n",
              "            </tr>\n",
              "    </tbody></table>"
            ],
            "text/plain": [
              "<IPython.core.display.HTML object>"
            ]
          },
          "metadata": {
            "tags": []
          }
        }
      ]
    }
  ]
}